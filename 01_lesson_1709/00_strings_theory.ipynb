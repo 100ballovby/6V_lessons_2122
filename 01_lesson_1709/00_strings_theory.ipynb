{
 "cells": [
  {
   "cell_type": "markdown",
   "metadata": {
    "collapsed": true
   },
   "source": [
    "# Строчки. <class 'str'>\n",
    "\n",
    "<p>Строка в программировании - это любая последовательность символов, взятая в кавычки. Кавычки при этом могут быть любыми: <code>''</code>, <code>\"\"</code>. Главное, чтобы строка начиналась одним типом кавычек и заканчивалась таким же.</p>"
   ]
  },
  {
   "cell_type": "code",
   "execution_count": 1,
   "metadata": {},
   "outputs": [],
   "source": [
    "phrase = 'Привет! Я разработчик'"
   ]
  },
  {
   "cell_type": "markdown",
   "metadata": {},
   "source": [
    "<p>Со строчками можно совершать различные операции.</p>\n",
    "\n",
    "## Математические операции и строки\n",
    "\n",
    "<ul>\n",
    "    <li><code>+</code> - конкатенация. Строки можно складывать !!! <code>str + str</code>!!!</li>\n",
    "</ul>"
   ]
  },
  {
   "cell_type": "code",
   "execution_count": 2,
   "metadata": {},
   "outputs": [
    {
     "name": "stdout",
     "output_type": "stream",
     "text": [
      "Мама\n"
     ]
    }
   ],
   "source": [
    "print('Ма' + 'ма')"
   ]
  },
  {
   "cell_type": "markdown",
   "metadata": {},
   "source": [
    "<ul>\n",
    "    <li><code>*</code> - строчки можно умножать !!! <code>str * int</code> !!!</li>\n",
    "</ul>"
   ]
  },
  {
   "cell_type": "code",
   "execution_count": 4,
   "metadata": {},
   "outputs": [
    {
     "name": "stdout",
     "output_type": "stream",
     "text": [
      "aaaaa\n"
     ]
    }
   ],
   "source": [
    "print('a' * 5)"
   ]
  },
  {
   "cell_type": "markdown",
   "metadata": {},
   "source": [
    "## Разрезание строк\n",
    "<p>Элементы строки имеют порядковые номера. Они называются \"индексы\". Индексы начинаются с нуля.</p>\n",
    "\n",
    "<p>Чтобы обратиться к индексу, нужно написать название переменной, в которой хранится строка и поставить в фигурных скобках индекс элемента, который вы хотите вывести.</p>"
   ]
  },
  {
   "cell_type": "code",
   "execution_count": 5,
   "metadata": {},
   "outputs": [
    {
     "name": "stdout",
     "output_type": "stream",
     "text": [
      "в\n"
     ]
    }
   ],
   "source": [
    "print(phrase[3])"
   ]
  },
  {
   "cell_type": "markdown",
   "metadata": {},
   "source": [
    "<p>Индексы используются при разрезании строк. Разрезать строку - значит достать из нее последовательность символов.</p>\n",
    "\n",
    "<p>Для того, чтобы разрезать строчку, нужно напистаь название переменной, которая ее хранит, поставить квадратные скобки, указать индекс старта, поставить знак <code>:</code> и написать индекс финиша.</p>"
   ]
  },
  {
   "cell_type": "code",
   "execution_count": 8,
   "metadata": {},
   "outputs": [
    {
     "name": "stdout",
     "output_type": "stream",
     "text": [
      "Привет!\n"
     ]
    }
   ],
   "source": [
    "print(phrase[0:7])"
   ]
  },
  {
   "cell_type": "markdown",
   "metadata": {},
   "source": [
    "<p><b>Необязательно писать точки старта и финиша в ситуациях: </b></p>\n",
    "<ol>\n",
    "    <li>Если срез надо сделать сначала строки. В этом случае нам необязательно писать старт: <code>phrase[:7]</code> - вырезать сначала до 7 символа</li>\n",
    "    <li>Если срез надо сделать с определенного символа и до конца строки. В этом случае писать финиш не нужно: <code>phrase[8:]</code></li>\n",
    "</ol>"
   ]
  },
  {
   "cell_type": "code",
   "execution_count": 9,
   "metadata": {},
   "outputs": [
    {
     "name": "stdout",
     "output_type": "stream",
     "text": [
      "Привет!\n"
     ]
    }
   ],
   "source": [
    "print(phrase[:7])"
   ]
  },
  {
   "cell_type": "code",
   "execution_count": 10,
   "metadata": {},
   "outputs": [
    {
     "name": "stdout",
     "output_type": "stream",
     "text": [
      "Я разработчик\n"
     ]
    }
   ],
   "source": [
    "print(phrase[8:])"
   ]
  },
  {
   "cell_type": "markdown",
   "metadata": {},
   "source": [
    "<p>Индексы бывают отрицательными.</p>\n",
    "<p>Если вы не знаете длину строки, но вам нужно вывести последний символ в строке, надо написать отрицательный -1.</p>"
   ]
  },
  {
   "cell_type": "code",
   "execution_count": 11,
   "metadata": {},
   "outputs": [
    {
     "name": "stdout",
     "output_type": "stream",
     "text": [
      "к\n"
     ]
    }
   ],
   "source": [
    "print(phrase[-1])"
   ]
  },
  {
   "cell_type": "markdown",
   "metadata": {},
   "source": [
    "<p>Отрицательные индексы можно использовать в срезах.</p>"
   ]
  },
  {
   "cell_type": "code",
   "execution_count": 13,
   "metadata": {},
   "outputs": [
    {
     "name": "stdout",
     "output_type": "stream",
     "text": [
      "разработчик\n"
     ]
    }
   ],
   "source": [
    "print(phrase[-11:])"
   ]
  },
  {
   "cell_type": "markdown",
   "metadata": {},
   "source": [
    "## Методы\n",
    "\n",
    "<p>У строк есть методы.</p>\n",
    "<dl>\n",
    "    <dt>Метод</dt>\n",
    "    <dd>это специальная функция, которая может выполнять какие-то операции со строкой и либо модифицировать ее, либо проверять.</dd>\n",
    "</dl>\n",
    "\n",
    "<p>Чтобы использовать метод, надо написать имя переменной и через точку указать имя метода.</p>\n",
    "\n",
    "<ul>\n",
    "    <li><code>.lower()</code> приводит все символы в строке в нижний регистр</li>\n",
    "</ul>"
   ]
  },
  {
   "cell_type": "code",
   "execution_count": 22,
   "metadata": {},
   "outputs": [
    {
     "name": "stdout",
     "output_type": "stream",
     "text": [
      "Одинаковые ли это Емейлы: False\n",
      "\n",
      "GreatRaksin@iCloud.com\n",
      "\n",
      "привожу в нижний регистр\n",
      "\n",
      "greatraksin@icloud.com\n"
     ]
    }
   ],
   "source": [
    "email = 'greatraksin@icloud.com'\n",
    "email2 = 'GreatRaksin@iCloud.com'\n",
    "\n",
    "print(f'Одинаковые ли это Емейлы: {email == email2}\\n')\n",
    "\n",
    "print(email2)\n",
    "\n",
    "print('\\nпривожу в нижний регистр\\n')\n",
    "\n",
    "print(email2.lower())"
   ]
  },
  {
   "cell_type": "markdown",
   "metadata": {},
   "source": [
    "<ul>\n",
    "    <li><code>.upper()</code> приводит все символы в строке в верхний регистр</li>\n",
    "</ul>"
   ]
  },
  {
   "cell_type": "code",
   "execution_count": 23,
   "metadata": {},
   "outputs": [
    {
     "name": "stdout",
     "output_type": "stream",
     "text": [
      "ПРИВЕТ\n"
     ]
    }
   ],
   "source": [
    "z = 'привет'\n",
    "print(z.upper())"
   ]
  },
  {
   "cell_type": "markdown",
   "metadata": {},
   "source": [
    "<ul>\n",
    "    <li><code>.capitalize()</code> приводит первый символ в строке в верхний регистр, а остальные не трогает.</li>\n",
    "</ul>"
   ]
  },
  {
   "cell_type": "code",
   "execution_count": 24,
   "metadata": {},
   "outputs": [
    {
     "name": "stdout",
     "output_type": "stream",
     "text": [
      "Привет, как дела?\n"
     ]
    }
   ],
   "source": [
    "tag = 'привет, как дела?'\n",
    "print(tag.capitalize())"
   ]
  },
  {
   "cell_type": "markdown",
   "metadata": {},
   "source": [
    "<ul>\n",
    "    <li><code>.replace(a, b)</code> заменяет символ <code>а</code> на символ <code>b</code></li>\n",
    "</ul>"
   ]
  },
  {
   "cell_type": "code",
   "execution_count": 27,
   "metadata": {},
   "outputs": [
    {
     "name": "stdout",
     "output_type": "stream",
     "text": [
      "Привет! Я разработчик\n"
     ]
    }
   ],
   "source": [
    "print(phrase)"
   ]
  },
  {
   "cell_type": "code",
   "execution_count": 28,
   "metadata": {},
   "outputs": [
    {
     "name": "stdout",
     "output_type": "stream",
     "text": [
      "Привет! Я пианист\n"
     ]
    }
   ],
   "source": [
    "print(phrase.replace('разработчик', 'пианист'))"
   ]
  },
  {
   "cell_type": "markdown",
   "metadata": {},
   "source": [
    "<ul>\n",
    "    <li><code>.isupper()</code> проверяет, является ли символ в строке большим.</li>\n",
    "</ul>"
   ]
  },
  {
   "cell_type": "code",
   "execution_count": 32,
   "metadata": {},
   "outputs": [
    {
     "name": "stdout",
     "output_type": "stream",
     "text": [
      "True\n"
     ]
    }
   ],
   "source": [
    "print('А'.isupper())"
   ]
  },
  {
   "cell_type": "markdown",
   "metadata": {},
   "source": [
    "<ul>\n",
    "    <li><code>.islower()</code> проверяет, является ли символ в строке маленьким.</li>\n",
    "</ul>"
   ]
  },
  {
   "cell_type": "code",
   "execution_count": 30,
   "metadata": {},
   "outputs": [
    {
     "name": "stdout",
     "output_type": "stream",
     "text": [
      "True\n"
     ]
    }
   ],
   "source": [
    "print('f'.islower())"
   ]
  },
  {
   "cell_type": "markdown",
   "metadata": {},
   "source": [
    "## Задача 1. Почистить дату\n",
    "\n",
    "<p>Дана дата в неудобном формате <code>YYYY-MM-DD TimeZone HH:MM</code>. Нужно привести дату в нормальный вид: <code>YYYY-MM-DD HH:MM</code>.</p>"
   ]
  },
  {
   "cell_type": "code",
   "execution_count": 44,
   "metadata": {},
   "outputs": [
    {
     "name": "stdout",
     "output_type": "stream",
     "text": [
      "Новая дата:\n",
      "2019-03-22 16:32\n"
     ]
    }
   ],
   "source": [
    "raw_date = '2019-03-22 GMT3 16:32'\n",
    "\n",
    "new_date = raw_date[:10] + raw_date[-6:]\n",
    "\n",
    "print('Новая дата:')\n",
    "print(new_date)"
   ]
  },
  {
   "cell_type": "markdown",
   "metadata": {},
   "source": [
    "## <code>f-string</code>\n",
    "    \n",
    "<p>Вы можете вставлять значение переменной внутрь строки. Для этого перед строкой нужно поставить букву <code>f</code>, а в строке через <code>{}</code> вставить значение переменной.</p>"
   ]
  },
  {
   "cell_type": "code",
   "execution_count": 47,
   "metadata": {},
   "outputs": [
    {
     "name": "stdout",
     "output_type": "stream",
     "text": [
      "Новая дата: \"2019-03-22 16:32\".\n"
     ]
    }
   ],
   "source": [
    "print(f'Новая дата: \"{new_date}\".')"
   ]
  },
  {
   "cell_type": "markdown",
   "metadata": {},
   "source": [
    "<p>Еще один вариант использования форматированных строк:</p>"
   ]
  },
  {
   "cell_type": "code",
   "execution_count": 48,
   "metadata": {},
   "outputs": [
    {
     "name": "stdout",
     "output_type": "stream",
     "text": [
      "Как тебя зовут? Демид\n",
      "Привет, Демид!\n"
     ]
    }
   ],
   "source": [
    "name = input('Как тебя зовут? ')\n",
    "\n",
    "print(f'Привет, {name}!')"
   ]
  },
  {
   "cell_type": "markdown",
   "metadata": {},
   "source": [
    "## Бонус\n",
    "\n",
    "<p>Я хочу написать программу, которая выводит красивую таблицу умножения для любого числа, которое я введу. Вывод программы должен быть таким: <code>n * 1 = n...</code></p>"
   ]
  },
  {
   "cell_type": "code",
   "execution_count": 49,
   "metadata": {},
   "outputs": [
    {
     "name": "stdout",
     "output_type": "stream",
     "text": [
      "Введите мне число: 7\n"
     ]
    }
   ],
   "source": [
    "n = int(input('Введите мне число: '))"
   ]
  },
  {
   "cell_type": "code",
   "execution_count": 51,
   "metadata": {},
   "outputs": [
    {
     "name": "stdout",
     "output_type": "stream",
     "text": [
      "7 ❌ 1 = 7\n",
      "7 ❌ 2 = 14\n",
      "7 ❌ 3 = 21\n",
      "7 ❌ 4 = 28\n",
      "7 ❌ 5 = 35\n",
      "7 ❌ 6 = 42\n",
      "7 ❌ 7 = 49\n",
      "7 ❌ 8 = 56\n",
      "7 ❌ 9 = 63\n",
      "7 ❌ 10 = 70\n"
     ]
    }
   ],
   "source": [
    "for i in range(1, 11):\n",
    "    print(f'{n} * {i} = {n * i}')"
   ]
  },
  {
   "cell_type": "code",
   "execution_count": null,
   "metadata": {},
   "outputs": [],
   "source": []
  }
 ],
 "metadata": {
  "kernelspec": {
   "display_name": "Python 3 (ipykernel)",
   "language": "python",
   "name": "python3"
  },
  "language_info": {
   "codemirror_mode": {
    "name": "ipython",
    "version": 3
   },
   "file_extension": ".py",
   "mimetype": "text/x-python",
   "name": "python",
   "nbconvert_exporter": "python",
   "pygments_lexer": "ipython3",
   "version": "3.7.7"
  }
 },
 "nbformat": 4,
 "nbformat_minor": 1
}
