{
 "cells": [
  {
   "cell_type": "markdown",
   "metadata": {
    "collapsed": true
   },
   "source": [
    "## Циклы. Повторение\n",
    "\n",
    "<p><b>Цикл</b> - это управляющая конструкция, позволяющая повторить какие-то действия в программе определенное или неопределенное количество раз.</p>\n",
    "\n",
    "<p>По способу работы циклы делятся на два вида:</p>\n",
    "<ul>\n",
    "    <li>Условный цикл <code>while</code> - работает до наступления определенного события;</li>\n",
    "    <li>Счетный цикл <code>for</code> - работает какое-то количество раз.</li>\n",
    "</ul>\n",
    "\n",
    "\n",
    "## Генератор <code>range()</code>\n",
    "\n",
    "<p>Функция <code>range()</code> - генератор <b>арифметических последовательностей</b>.</p>\n",
    "\n",
    "<p><b>АП</b> - набор чисел с 3 обязательными переменными: <code>start</code>, <code>stop</code>, <code>step</code>.</p>\n",
    "\n",
    "<ul>\n",
    "    <li><code>start</code> - начало последовательности;</li>\n",
    "    <li><code>stop</code> - конец последовательности. Обычно не входит в последовательность (не включительно);</li>\n",
    "    <li><code>step</code> - значение, которое показывает, насколько каждый следующий член последовательности больше предыдущего.</li>\n",
    "</ul>\n",
    "\n",
    "<p>У <code>range()</code> существует 3 варианта написания:</p>\n",
    "\n",
    "<p>1. <code>range(stop)</code> -> 0...<code>stop - 1</code>. <code>stop</code> НЕ ВХОДИТ в последовательность. <code>step</code> = +1.</p>"
   ]
  },
  {
   "cell_type": "code",
   "execution_count": 3,
   "metadata": {},
   "outputs": [
    {
     "name": "stdout",
     "output_type": "stream",
     "text": [
      "0 1 2 3 4 5 6\n"
     ]
    }
   ],
   "source": [
    "print(*range(7))"
   ]
  },
  {
   "cell_type": "markdown",
   "metadata": {},
   "source": [
    "<p>2. <code>range(start, stop)</code> -> <code>start</code>...<code>stop - 1</code>. <code>stop</code> НЕ ВХОДИТ в последовательность. <code>step</code> = +1.</p>"
   ]
  },
  {
   "cell_type": "code",
   "execution_count": 4,
   "metadata": {},
   "outputs": [
    {
     "name": "stdout",
     "output_type": "stream",
     "text": [
      "15 16 17 18 19 20 21 22 23 24 25 26 27 28 29 30 31 32 33 34 35 36 37\n"
     ]
    }
   ],
   "source": [
    "print(*range(15, 38))"
   ]
  },
  {
   "cell_type": "markdown",
   "metadata": {},
   "source": [
    "<p>3. <code>range(start(10), stop(15), step(2))</code> -> <code>10 12 14</code>. Если <code>step >= stop</code>, последовательность остановится на последнем числе &lt; <code>stop</code>.</p>"
   ]
  },
  {
   "cell_type": "code",
   "execution_count": 5,
   "metadata": {},
   "outputs": [
    {
     "name": "stdout",
     "output_type": "stream",
     "text": [
      "50 55 60 65 70 75 80 85 90 95\n"
     ]
    }
   ],
   "source": [
    "print(*range(50, 100, 5))"
   ]
  },
  {
   "cell_type": "markdown",
   "metadata": {},
   "source": [
    "## <code>range()</code> в цикле <code>for</code>\n",
    "\n",
    "<p>Цикл <code>for</code> - цикл с управляющей переменной. Повторяется определенное количество раз, равное переменной <code>stop - 1</code> из функции <code>range()</code> (если шаг не указан). Управляющая переменная цикла (<code>i</code>) отвечает за подсвет количества итераций цикла (повторений). Управляющая переменная получает значения из последовательности, переданной циклу. Т.о.: цикл <code>for</code> повторяется количество раз = длине последовательности переданной ему.</p>"
   ]
  },
  {
   "cell_type": "code",
   "execution_count": 7,
   "metadata": {},
   "outputs": [
    {
     "name": "stdout",
     "output_type": "stream",
     "text": [
      "Леша предатель!\n",
      "Леша предатель!\n",
      "Леша предатель!\n",
      "Леша предатель!\n",
      "Леша предатель!\n"
     ]
    }
   ],
   "source": [
    "for i in [42357, 1342, 234, -56, 512]:\n",
    "    print('Леша предатель!')"
   ]
  },
  {
   "cell_type": "markdown",
   "metadata": {},
   "source": [
    "<p>Применение функции <code>range()</code> в цикле <code>for</code></p>"
   ]
  },
  {
   "cell_type": "code",
   "execution_count": 8,
   "metadata": {},
   "outputs": [
    {
     "name": "stdout",
     "output_type": "stream",
     "text": [
      "0, 1, 2, 3, 4, "
     ]
    }
   ],
   "source": [
    "for i in range(5):\n",
    "    print(i, end=', ')"
   ]
  },
  {
   "cell_type": "code",
   "execution_count": 12,
   "metadata": {},
   "outputs": [
    {
     "name": "stdout",
     "output_type": "stream",
     "text": [
      "15, 16, 17, 18, 19, 20, 21, 22, 23, 24, 25, 26, 27, 28, 29, 30, "
     ]
    }
   ],
   "source": [
    "for j in range(15, 31):\n",
    "    print(j, end=', ')"
   ]
  },
  {
   "cell_type": "code",
   "execution_count": 13,
   "metadata": {},
   "outputs": [
    {
     "name": "stdout",
     "output_type": "stream",
     "text": [
      "1, 3, 5, 7, 9, 11, 13, 15, 17, 19, 21, 23, 25, 27, 29, 31, 33, 35, 37, 39, 41, 43, 45, 47, 49, "
     ]
    }
   ],
   "source": [
    "for k in range(1, 50, 2):\n",
    "    print(k, end=', ')"
   ]
  },
  {
   "cell_type": "markdown",
   "metadata": {},
   "source": [
    "## Вычисления\n",
    "\n",
    "<p>В теле цикла можно выплонять арифметические операции.</p>\n",
    "\n",
    "<p>Напишем программу, которая спрашивает у пользователя количество чисел, а затем суммирует все числа, которые ввел пользователь.</p>"
   ]
  },
  {
   "cell_type": "code",
   "execution_count": 15,
   "metadata": {},
   "outputs": [
    {
     "name": "stdout",
     "output_type": "stream",
     "text": [
      "Сколько чисел нужно? 4\n",
      "Введите число №1: 5\n",
      "Введите число №2: 2\n",
      "Введите число №3: 7\n",
      "Введите число №4: 8\n",
      "22\n"
     ]
    }
   ],
   "source": [
    "count = int(input('Сколько чисел нужно? '))\n",
    "summary = 0  # суммирую числа \n",
    "\n",
    "for i in range(count):\n",
    "    n = int(input(f'Введите число №{i + 1}: '))\n",
    "    summary += n\n",
    "    \n",
    "print(summary)"
   ]
  },
  {
   "cell_type": "markdown",
   "metadata": {},
   "source": [
    "<p><code>for i in range(count)</code> означает, что количество повторений цикла задается переменной <code>count</code>. То есть количество повторений = тому числу, которое будет записано в эту переменную.</p>\n",
    "\n",
    "<p>В теле цикла я запрашиваю у пользователя число (в переменной <code>n</code>), а затем складываю каждое число, введенное пользователем, с переменной <code>summary</code>.</p>"
   ]
  },
  {
   "cell_type": "markdown",
   "metadata": {},
   "source": [
    "## Инкремент и декремент\n",
    "\n",
    "<p>Оператор <code>+=</code> в теле цикла - это увеличение значения переменной с присваиванием. Называется эта штука умным слово <b>инкремент</b>. Инкременты бывают разных видов. Дело в том, что увеличивать значение переменной можно не только путем сложения, но и другими операциями:</p>\n",
    "\n",
    "<ul>\n",
    "    <li><code>+=</code> - сложение;</li>\n",
    "    <li><code>*=</code> - умножение;</li>\n",
    "    <li><code>**=</code> - возведение в степень.</li>\n",
    "</ul>\n",
    "\n",
    "<p>Помимо инкремента есть второй оператор - уменьшение с присваиванием - <b>декремент</b>. Как и в случае с первым, есть несколько вариантов уменьшения:</p>\n",
    "\n",
    "<ul>\n",
    "    <li><code>-=</code> - разность;</li>\n",
    "    <li><code>/=</code> - деление;</li>\n",
    "    <li><code>//=</code> - деление без дробной части (целочисленное деление);</li>\n",
    "    <li><code>%=</code> - вернуть остаток от деления.</li>\n",
    "</ul>\n",
    "\n",
    "<p>Работают операторы следующим образом. Предположим, что у меня есть переменная <code>x</code>, которой я присваиваю значение <code>2</code>, а затем выполню несколько операций с инкрементом и декрементом.</p>"
   ]
  },
  {
   "cell_type": "code",
   "execution_count": 23,
   "metadata": {},
   "outputs": [
    {
     "name": "stdout",
     "output_type": "stream",
     "text": [
      "12\n"
     ]
    }
   ],
   "source": [
    "x = 2\n",
    "x *= 6 \n",
    "\n",
    "print(x)"
   ]
  },
  {
   "cell_type": "markdown",
   "metadata": {},
   "source": [
    "<p><code>x = 12</code>, потому что я сначала умножил его первоначальное значение на <code>6</code> и затем сохранил получившийся результат в ту же переменную.</p>"
   ]
  },
  {
   "cell_type": "code",
   "execution_count": 24,
   "metadata": {},
   "outputs": [
    {
     "name": "stdout",
     "output_type": "stream",
     "text": [
      "19\n"
     ]
    }
   ],
   "source": [
    "x += 7\n",
    "\n",
    "print(x)"
   ]
  },
  {
   "cell_type": "markdown",
   "metadata": {},
   "source": [
    "<p><code>x = 19</code>, потому что я сначала прибавил к первоначальному значению  <code>7</code> и затем сохранил получившийся результат в ту же переменную.</p>"
   ]
  },
  {
   "cell_type": "code",
   "execution_count": 25,
   "metadata": {},
   "outputs": [
    {
     "name": "stdout",
     "output_type": "stream",
     "text": [
      "16\n"
     ]
    }
   ],
   "source": [
    "x -= 3\n",
    "\n",
    "print(x)"
   ]
  },
  {
   "cell_type": "markdown",
   "metadata": {},
   "source": [
    "<p><code>x = 16</code>, потому что я сначала отнял от первоначального значения  <code>3</code> и затем сохранил получившийся результат в ту же переменную.</p>"
   ]
  },
  {
   "cell_type": "code",
   "execution_count": 26,
   "metadata": {},
   "outputs": [
    {
     "name": "stdout",
     "output_type": "stream",
     "text": [
      "2\n"
     ]
    }
   ],
   "source": [
    "x //= 8\n",
    "\n",
    "print(x)"
   ]
  },
  {
   "cell_type": "markdown",
   "metadata": {},
   "source": [
    "<p><code>x = 2</code>, потому что я сначала разделил его первоначальное значение на <code>2</code> и затем сохранил получившийся результат в ту же переменную.</p>\n",
    "\n",
    "<p>Операторы инкремент и декремент нужно и можно использовать в тех случаях, когда в цикле нужно проводить промежуточные вычисления.</p>\n",
    "\n",
    "## Задача про факториал\n",
    "\n",
    "<p>Факториал числа <code>n</code> - произведение всех натуральных чисел от <code>1</code> до <code>n</code> включительно. Обозначается факториал <code>n!</code>.<br><code>6! = 1 * 2 * 3 * 4 * 5 * 6 = 720</code>.</p>\n",
    "\n",
    "<p>Подробнее про факториал <a href=\"https://skysmart.ru/articles/mathematic/chto-takoe-faktorial-chisla\" target=\"_blank\">здесь</a>.</p>\n",
    "\n",
    "<p>Используя цикл <code>for</code> и оператор инкремент напишем программу, которая считает факториал числа, введенного пользователем.</p>"
   ]
  },
  {
   "cell_type": "code",
   "execution_count": 30,
   "metadata": {},
   "outputs": [
    {
     "name": "stdout",
     "output_type": "stream",
     "text": [
      "Введите число: 6\n",
      "6! = 720\n"
     ]
    }
   ],
   "source": [
    "n = int(input('Введите число: '))\n",
    "factorial = 1\n",
    "\n",
    "for i in range(1, n + 1):\n",
    "    factorial *= i\n",
    "    \n",
    "print(f'{n}! = {factorial}')"
   ]
  },
  {
   "cell_type": "markdown",
   "metadata": {},
   "source": [
    "<p><code>n + 1</code> в функции <code>range()</code> нужен для того, чтобы само число n вошло в последовательность. В теле цикла я просто перемножаю все числа из <code>range()</code> между собой.</p>\n",
    "\n",
    "<p>Я могу сделать так, чтобы программа выше считала факториалы всех чисел от <code>1</code> до того числа, которое введет пользователь. В этом случае, я просто поставлю дополнительный цикл, в котором будет считаться факториал.</p>"
   ]
  },
  {
   "cell_type": "code",
   "execution_count": 33,
   "metadata": {},
   "outputs": [
    {
     "name": "stdout",
     "output_type": "stream",
     "text": [
      "Введите число: 10\n",
      "0! = 1\n",
      "1! = 1\n",
      "2! = 2\n",
      "3! = 6\n",
      "4! = 24\n",
      "5! = 120\n",
      "6! = 720\n",
      "7! = 5040\n",
      "8! = 40320\n",
      "9! = 362880\n",
      "10! = 3628800\n"
     ]
    }
   ],
   "source": [
    "n = int(input('Введите число: '))\n",
    "\n",
    "for f in range(n + 1):  # перебираю все числа от 0 до введенного включительно\n",
    "    factorial = 1\n",
    "\n",
    "    for i in range(1, f + 1):  # для каждого числа от 0 до n считаю факториал\n",
    "        factorial *= i\n",
    "\n",
    "    print(f'{f}! = {factorial}')"
   ]
  },
  {
   "cell_type": "code",
   "execution_count": null,
   "metadata": {},
   "outputs": [],
   "source": []
  }
 ],
 "metadata": {
  "kernelspec": {
   "display_name": "Python 3 (ipykernel)",
   "language": "python",
   "name": "python3"
  },
  "language_info": {
   "codemirror_mode": {
    "name": "ipython",
    "version": 3
   },
   "file_extension": ".py",
   "mimetype": "text/x-python",
   "name": "python",
   "nbconvert_exporter": "python",
   "pygments_lexer": "ipython3",
   "version": "3.7.7"
  }
 },
 "nbformat": 4,
 "nbformat_minor": 1
}