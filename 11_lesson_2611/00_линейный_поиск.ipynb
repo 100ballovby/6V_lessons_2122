{
 "cells": [
  {
   "cell_type": "markdown",
   "metadata": {
    "collapsed": true,
    "pycharm": {
     "is_executing": true
    }
   },
   "source": [
    "## Алгоритм линейного поиска элемента в массиве \n",
    "\n",
    "\n",
    "<p><b>Линейный поискс</b> - это базовый алгооритм поиска значения в коллекции, который заключается в последовательном переборе каждого элемента коллекции и сравнения его с искомым значением. Если значение найдено, поиск должен быть остановлен.</p>"
   ]
  },
  {
   "cell_type": "code",
   "execution_count": 8,
   "metadata": {},
   "outputs": [],
   "source": [
    "lst = [5, 3, 12, 8, 0, 19, 21, 67, 4, 2, -7, 9]"
   ]
  },
  {
   "cell_type": "markdown",
   "metadata": {},
   "source": [
    "<p>Предположим, что я хочу какое-то число в списке. Для этого я создам переменную, в которую пользователь будет вводить искомое значение - <code>key</code>.</p>"
   ]
  },
  {
   "cell_type": "code",
   "execution_count": 2,
   "metadata": {},
   "outputs": [
    {
     "name": "stdout",
     "output_type": "stream",
     "text": [
      "Введите число: 67\n"
     ]
    }
   ],
   "source": [
    "key = int(input('Введите число: '))"
   ]
  },
  {
   "cell_type": "markdown",
   "metadata": {},
   "source": [
    "<p>Теперь моя задача просмотреть каждый элемент списка при помощи цикла <code>for</code>, количество повторений котрого равно <code>len(lst))</code>. Каждый элемент при переборе сравнить с переменной <code>key</code>. Если элемент и переменная равны (<code>==</code>), то поиск должен быть остановлен конструкцией <code>break</code>. Программа должна вывести индекс найденного числа или вывести сообщение: <b><i>Такого элемента нет</i></b>.</p>"
   ]
  },
  {
   "cell_type": "code",
   "execution_count": 7,
   "metadata": {},
   "outputs": [
    {
     "name": "stdout",
     "output_type": "stream",
     "text": [
      "Такого элемента нет!\n"
     ]
    }
   ],
   "source": [
    "for index in range(len(lst)):\n",
    "    if lst[index] == key:\n",
    "        break\n",
    "        \n",
    "if lst[index] == key:\n",
    "    print(f'id = {index}')\n",
    "else:\n",
    "    print('Такого элемента нет!')"
   ]
  },
  {
   "cell_type": "markdown",
   "metadata": {},
   "source": [
    "<p>АЛП - самый базовый и самый медленный из алгоритмов пооиска. Время исполнения такого поиска <b>линейно</b>, то есть количества затраченного времени = количеству элементов в списке.</p>\n",
    "<p>Т.к. мы рассматриваем всегда самый худший случай, когда искомое число находится в самом конце списка. Соответственно, не сложно посчитать, что для массива длиной 500 элементов, нужно будет совершить 499 попыток.</p>\n",
    "\n",
    "### Другие примененияв\n",
    "\n",
    "<p>Использовать модицифицированный АЛП можно в обычных задачах на списки.</p>\n",
    "\n",
    "<p>Предположим, что мне нужно заменить все четные элементы массива словом <code>even</code>, а нечетные - словом <code>odd</code>.</p>"
   ]
  },
  {
   "cell_type": "code",
   "execution_count": 9,
   "metadata": {},
   "outputs": [
    {
     "name": "stdout",
     "output_type": "stream",
     "text": [
      "Преобразованный ['odd', 'odd', 'even', 'even', 'even', 'odd', 'odd', 'odd', 'even', 'even', 'odd', 'odd']\n"
     ]
    }
   ],
   "source": [
    "for index in range(len(lst)):\n",
    "    if lst[index] % 2 == 0:\n",
    "        lst[index] = 'even'\n",
    "    else:\n",
    "        lst[index] = 'odd'\n",
    "    \n",
    "print(f'Преобразованный {lst}')"
   ]
  },
  {
   "cell_type": "code",
   "execution_count": null,
   "metadata": {},
   "outputs": [],
   "source": []
  }
 ],
 "metadata": {
  "kernelspec": {
   "display_name": "Python 3 (ipykernel)",
   "language": "python",
   "name": "python3"
  },
  "language_info": {
   "codemirror_mode": {
    "name": "ipython",
    "version": 3
   },
   "file_extension": ".py",
   "mimetype": "text/x-python",
   "name": "python",
   "nbconvert_exporter": "python",
   "pygments_lexer": "ipython3",
   "version": "3.7.7"
  }
 },
 "nbformat": 4,
 "nbformat_minor": 1
}