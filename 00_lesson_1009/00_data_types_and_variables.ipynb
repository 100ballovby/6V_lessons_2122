{
 "cells": [
  {
   "cell_type": "markdown",
   "metadata": {
    "collapsed": true
   },
   "source": [
    "## Типы данных и переменные в Python\n",
    "\n",
    "<ol>\n",
    "    <li><code>None</code> - неопределенное значение</li>\n",
    "    <li><code>int</code> - integer, целое число</li>\n",
    "    <li><code>float</code> - floating point number - десятичные дроби</li>\n",
    "    <li><code>str</code> - строчки</li>\n",
    "    <li><code>bool</code> - логический</li>\n",
    "    <li><code>date</code> - дата</li>\n",
    "</ol>\n",
    "\n",
    "<hr>\n",
    "\n",
    "<h2>Функции для изменения типов данных.</h2>\n",
    "<ul>\n",
    "    <li><code>int(x)</code> - превращает объект в целое число</li>\n",
    "    <li><code>float(x)</code> - превращает объект в дробь</li>\n",
    "    <li><code>str(x)</code> - превращает объект в строку</li>\n",
    "    <li><code>bool(x)</code> - превращает объект в логическое значение</li>\n",
    "</ul>\n"
   ]
  },
  {
   "cell_type": "code",
   "execution_count": 2,
   "metadata": {},
   "outputs": [
    {
     "ename": "ValueError",
     "evalue": "invalid literal for int() with base 10: 'five'",
     "output_type": "error",
     "traceback": [
      "\u001B[0;31m---------------------------------------------------------------------------\u001B[0m",
      "\u001B[0;31mValueError\u001B[0m                                Traceback (most recent call last)",
      "\u001B[0;32m/var/folders/kg/wys5qw45109bn_kq6647wwzw0000gn/T/ipykernel_2260/150565622.py\u001B[0m in \u001B[0;36m<module>\u001B[0;34m\u001B[0m\n\u001B[0;32m----> 1\u001B[0;31m \u001B[0mint\u001B[0m\u001B[0;34m(\u001B[0m\u001B[0;34m'five'\u001B[0m\u001B[0;34m)\u001B[0m  \u001B[0;31m# ValueError - ошибка значения\u001B[0m\u001B[0;34m\u001B[0m\u001B[0;34m\u001B[0m\u001B[0m\n\u001B[0m",
      "\u001B[0;31mValueError\u001B[0m: invalid literal for int() with base 10: 'five'"
     ]
    }
   ],
   "source": [
    "int('five')  # ValueError - ошибка значения"
   ]
  },
  {
   "cell_type": "markdown",
   "metadata": {},
   "source": [
    "<p>компьютер не понимает естественных языков. И он не будет превращать в число название какой-то цифры</p>"
   ]
  },
  {
   "cell_type": "code",
   "execution_count": 3,
   "metadata": {},
   "outputs": [
    {
     "data": {
      "text/plain": [
       "5"
      ]
     },
     "execution_count": 3,
     "metadata": {},
     "output_type": "execute_result"
    }
   ],
   "source": [
    "int('5') # можно"
   ]
  },
  {
   "cell_type": "code",
   "execution_count": 4,
   "metadata": {},
   "outputs": [
    {
     "data": {
      "text/plain": [
       "'5'"
      ]
     },
     "execution_count": 4,
     "metadata": {},
     "output_type": "execute_result"
    }
   ],
   "source": [
    "str(5)  # можно"
   ]
  },
  {
   "cell_type": "code",
   "execution_count": 5,
   "metadata": {},
   "outputs": [
    {
     "data": {
      "text/plain": [
       "2.54"
      ]
     },
     "execution_count": 5,
     "metadata": {},
     "output_type": "execute_result"
    }
   ],
   "source": [
    "float('2.54')  # можно"
   ]
  },
  {
   "cell_type": "code",
   "execution_count": 6,
   "metadata": {},
   "outputs": [
    {
     "data": {
      "text/plain": [
       "2"
      ]
     },
     "execution_count": 6,
     "metadata": {},
     "output_type": "execute_result"
    }
   ],
   "source": [
    "int(2.54)  # округления не будет. Будет отбрасываться дробная часть"
   ]
  },
  {
   "cell_type": "code",
   "execution_count": 10,
   "metadata": {},
   "outputs": [
    {
     "ename": "ValueError",
     "evalue": "invalid literal for int() with base 10: '2.54'",
     "output_type": "error",
     "traceback": [
      "\u001B[0;31m---------------------------------------------------------------------------\u001B[0m",
      "\u001B[0;31mValueError\u001B[0m                                Traceback (most recent call last)",
      "\u001B[0;32m/var/folders/kg/wys5qw45109bn_kq6647wwzw0000gn/T/ipykernel_2260/4219331558.py\u001B[0m in \u001B[0;36m<module>\u001B[0;34m\u001B[0m\n\u001B[0;32m----> 1\u001B[0;31m \u001B[0mint\u001B[0m\u001B[0;34m(\u001B[0m\u001B[0;34m'2.54'\u001B[0m\u001B[0;34m)\u001B[0m  \u001B[0;31m# нельзя превратить в целое то, где есть точка\u001B[0m\u001B[0;34m\u001B[0m\u001B[0;34m\u001B[0m\u001B[0m\n\u001B[0m",
      "\u001B[0;31mValueError\u001B[0m: invalid literal for int() with base 10: '2.54'"
     ]
    }
   ],
   "source": [
    "int('2.54')  # нельзя превратить в целое то, где есть точка"
   ]
  },
  {
   "cell_type": "markdown",
   "metadata": {},
   "source": [
    "<p>Сначала нужно превратить строчную дробь в дробь, а только потом я могу превратить ее в целое число.</p>"
   ]
  },
  {
   "cell_type": "code",
   "execution_count": 11,
   "metadata": {},
   "outputs": [
    {
     "data": {
      "text/plain": [
       "2"
      ]
     },
     "execution_count": 11,
     "metadata": {},
     "output_type": "execute_result"
    }
   ],
   "source": [
    "int(float('2.54'))"
   ]
  },
  {
   "cell_type": "code",
   "execution_count": 15,
   "metadata": {},
   "outputs": [
    {
     "data": {
      "text/plain": [
       "True"
      ]
     },
     "execution_count": 15,
     "metadata": {},
     "output_type": "execute_result"
    }
   ],
   "source": [
    "bool(1)  # True\n",
    "bool(0)  # False"
   ]
  },
  {
   "cell_type": "code",
   "execution_count": 18,
   "metadata": {},
   "outputs": [
    {
     "data": {
      "text/plain": [
       "True"
      ]
     },
     "execution_count": 18,
     "metadata": {},
     "output_type": "execute_result"
    }
   ],
   "source": [
    "bool(-5)"
   ]
  },
  {
   "cell_type": "markdown",
   "metadata": {},
   "source": [
    "<p>Любое число, которое передается функции <code>bool()</code>, кроме 0, будет давать <code>True</code>, 0 будет давать <code>False</code>.</p>\n",
    "\n",
    "<h2>Работа с памятью</h2>\n",
    "\n",
    "<p><b>Переменная</b> - коробочка, в которой может находиться одно значение. У коробочки при этом должно быть имя.</p>\n",
    "\n",
    "<h2>Переменных в Python нет</h2>\n",
    "\n",
    "<p>В Python реализована ссылочная модель данных. Есть имена и есть объекты, которые с этими именами связаны.</p>\n",
    "\n",
    "<p>Чтобы создать переменную в С++, достаточно написать <code>int x;</code>. Создается переменная целочисленная. Если поставить значок <code>=</code> (присваивание), можно задать переменной значение. ВАЖНО: тип данных присваивается ПЕРЕМЕННОЙ.</p>\n",
    "\n",
    "<p>Чтобы создать переменную в Python, нужно написать ее имя и сразу же значение - <code>x = 5</code></p>"
   ]
  },
  {
   "cell_type": "code",
   "execution_count": null,
   "metadata": {},
   "outputs": [],
   "source": []
  }
 ],
 "metadata": {
  "kernelspec": {
   "display_name": "Python 3 (ipykernel)",
   "language": "python",
   "name": "python3"
  },
  "language_info": {
   "codemirror_mode": {
    "name": "ipython",
    "version": 3
   },
   "file_extension": ".py",
   "mimetype": "text/x-python",
   "name": "python",
   "nbconvert_exporter": "python",
   "pygments_lexer": "ipython3",
   "version": "3.7.7"
  }
 },
 "nbformat": 4,
 "nbformat_minor": 1
}